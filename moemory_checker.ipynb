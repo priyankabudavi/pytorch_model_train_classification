{
 "cells": [
  {
   "cell_type": "code",
   "execution_count": 19,
   "id": "cf933c6a",
   "metadata": {},
   "outputs": [
    {
     "name": "stdout",
     "output_type": "stream",
     "text": [
      "|Device 0| Mem Free: 2746.81MB / 23028.00MB | gpu-util: 0.0% | gpu-mem: 0.0% |\n",
      "|Device 0| Mem Free: 2746.81MB / 23028.00MB | gpu-util: 0.0% | gpu-mem: 0.0% |\n",
      "|Device 0| Mem Free: 2746.81MB / 23028.00MB | gpu-util: 0.0% | gpu-mem: 0.0% |\n",
      "|Device 0| Mem Free: 2746.81MB / 23028.00MB | gpu-util: 0.0% | gpu-mem: 0.0% |\n",
      "|Device 0| Mem Free: 1975.50MB / 23028.00MB | gpu-util: 0.0% | gpu-mem: 0.0% |\n",
      "|Device 0| Mem Free: 269.50MB / 23028.00MB | gpu-util: 99.0% | gpu-mem: 73.0% |\n",
      "|Device 0| Mem Free: 269.50MB / 23028.00MB | gpu-util: 99.0% | gpu-mem: 73.0% |\n",
      "|Device 0| Mem Free: 269.50MB / 23028.00MB | gpu-util: 99.0% | gpu-mem: 74.0% |\n",
      "|Device 0| Mem Free: 269.50MB / 23028.00MB | gpu-util: 0.0% | gpu-mem: 0.0% |\n",
      "|Device 0| Mem Free: 269.50MB / 23028.00MB | gpu-util: 0.0% | gpu-mem: 0.0% |\n"
     ]
    }
   ],
   "source": [
    "import nvidia_smi\n",
    "import time\n",
    "\n",
    "j = 0\n",
    "max_ = 10\n",
    "while j<max_:\n",
    "    time.sleep(3)\n",
    "    j+=1\n",
    "    nvidia_smi.nvmlInit()\n",
    "    deviceCount = nvidia_smi.nvmlDeviceGetCount()\n",
    "    for i in range(deviceCount):\n",
    "        handle = nvidia_smi.nvmlDeviceGetHandleByIndex(i)\n",
    "        util = nvidia_smi.nvmlDeviceGetUtilizationRates(handle)\n",
    "        mem = nvidia_smi.nvmlDeviceGetMemoryInfo(handle)\n",
    "        print(f\"|Device {i}| Mem Free: {mem.free/1024**2:5.2f}MB / {mem.total/1024**2:5.2f}MB | gpu-util: {util.gpu/100.0:3.1%} | gpu-mem: {util.memory/100.0:3.1%} |\")"
   ]
  },
  {
   "cell_type": "code",
   "execution_count": null,
   "id": "934d4690",
   "metadata": {},
   "outputs": [],
   "source": []
  }
 ],
 "metadata": {
  "kernelspec": {
   "display_name": "conda_priyanka-setfit-conda",
   "language": "python",
   "name": "conda_priyanka-setfit-conda"
  },
  "language_info": {
   "codemirror_mode": {
    "name": "ipython",
    "version": 3
   },
   "file_extension": ".py",
   "mimetype": "text/x-python",
   "name": "python",
   "nbconvert_exporter": "python",
   "pygments_lexer": "ipython3",
   "version": "3.9.20"
  }
 },
 "nbformat": 4,
 "nbformat_minor": 5
}
