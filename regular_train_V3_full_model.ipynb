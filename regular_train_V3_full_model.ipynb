{
 "cells": [
  {
   "cell_type": "markdown",
   "id": "261190ea",
   "metadata": {},
   "source": [
    "# Intent Classifier : camembert -base\n",
    "\n",
    "\n",
    "Date: Nov 8, 2024"
   ]
  },
  {
   "cell_type": "markdown",
   "id": "250958c2",
   "metadata": {},
   "source": [
    "# Libraries"
   ]
  },
  {
   "cell_type": "code",
   "execution_count": 1,
   "id": "50c733d4",
   "metadata": {},
   "outputs": [],
   "source": [
    "# #https://model-training-wenwen1.notebook.us-east-1.sagemaker.aws/lab\n",
    "# !pip install torch\n",
    "# !pip install sentencepiece\n",
    "# !pip install transformers\n",
    "# # !pip install openpyxl\n",
    "# # !pip install scikit-learn\n",
    "# !pip install seaborn"
   ]
  },
  {
   "cell_type": "code",
   "execution_count": 50,
   "id": "37232306",
   "metadata": {},
   "outputs": [
    {
     "name": "stdout",
     "output_type": "stream",
     "text": [
      "PyTorch version: 2.4.1+cu121\n",
      "CUDA available: True\n",
      "CUDA version: 12.1\n",
      "Number of GPUs: 1\n"
     ]
    }
   ],
   "source": [
    "from transformers import CamembertModel, CamembertTokenizer\n",
    "import pandas as pd\n",
    "import torch\n",
    "import torch.nn as nn\n",
    "from torch.utils.data import DataLoader, TensorDataset, WeightedRandomSampler\n",
    "from transformers import CamembertModel, CamembertTokenizer\n",
    "from sklearn.preprocessing import LabelEncoder\n",
    "import openpyxl\n",
    "import seaborn as sns\n",
    "import matplotlib.pyplot as plt\n",
    "from sklearn.model_selection import train_test_split\n",
    "import numpy as np\n",
    "\n",
    "print(\"PyTorch version:\", torch.__version__)\n",
    "print(\"CUDA available:\", torch.cuda.is_available())\n",
    "print(\"CUDA version:\", torch.version.cuda)\n",
    "print(\"Number of GPUs:\", torch.cuda.device_count())"
   ]
  },
  {
   "cell_type": "code",
   "execution_count": 51,
   "id": "2bda51e1",
   "metadata": {},
   "outputs": [],
   "source": [
    "df = pd.read_excel(\"../regular_train_V3/data/final_train_set_sme_labelled.xlsx\")\n",
    "df = df.rename(columns = {\"Query\":\"User Prompt\", \"DataScientist Label\": \"label\"})"
   ]
  },
  {
   "cell_type": "code",
   "execution_count": 52,
   "id": "bf7e1580",
   "metadata": {},
   "outputs": [
    {
     "data": {
      "image/png": "[encoded data removed]",
      "text/plain": [
       "<Figure size 640x480 with 1 Axes>"
      ]
     },
     "metadata": {},
     "output_type": "display_data"
    }
   ],
   "source": [
    "\n",
    "df = df[[\"User Prompt\" , \"label\"]]\n",
    "df['label'] = df['label'].str.strip()\n",
    "df = df[(df[\"label\"] != \"Incomplete\") & (df[\"label\"] != \"Independant\")]\n",
    "df = df.dropna()\n",
    "df.label.value_counts()\n",
    "\n",
    "sns.countplot(x='label', data=df)\n",
    "plt.title('Count Bar Plot Example')\n",
    "plt.xlabel('Categories')\n",
    "plt.ylabel('Count')\n",
    "plt.show()"
   ]
  },
  {
   "cell_type": "code",
   "execution_count": 53,
   "id": "f92ca26a",
   "metadata": {},
   "outputs": [
    {
     "data": {
      "text/html": [
       "<div>\n",
       "<style scoped>\n",
       "    .dataframe tbody tr th:only-of-type {\n",
       "        vertical-align: middle;\n",
       "    }\n",
       "\n",
       "    .dataframe tbody tr th {\n",
       "        vertical-align: top;\n",
       "    }\n",
       "\n",
       "    .dataframe thead th {\n",
       "        text-align: right;\n",
       "    }\n",
       "</style>\n",
       "<table border=\"1\" class=\"dataframe\">\n",
       "  <thead>\n",
       "    <tr style=\"text-align: right;\">\n",
       "      <th></th>\n",
       "      <th>User Prompt</th>\n",
       "      <th>label</th>\n",
       "    </tr>\n",
       "  </thead>\n",
       "  <tbody>\n",
       "    <tr>\n",
       "      <th>0</th>\n",
       "      <td>Mon client agent comptable d'un lycée fait l'o...</td>\n",
       "      <td>Email/Lettre</td>\n",
       "    </tr>\n",
       "    <tr>\n",
       "      <th>1</th>\n",
       "      <td>Dans un courriel, informe les autres juristes ...</td>\n",
       "      <td>Email/Lettre</td>\n",
       "    </tr>\n",
       "    <tr>\n",
       "      <th>2</th>\n",
       "      <td>Rédige un mail en expliquant à mon client le s...</td>\n",
       "      <td>Email/Lettre</td>\n",
       "    </tr>\n",
       "  </tbody>\n",
       "</table>\n",
       "</div>"
      ],
      "text/plain": [
       "                                         User Prompt         label\n",
       "0  Mon client agent comptable d'un lycée fait l'o...  Email/Lettre\n",
       "1  Dans un courriel, informe les autres juristes ...  Email/Lettre\n",
       "2  Rédige un mail en expliquant à mon client le s...  Email/Lettre"
      ]
     },
     "execution_count": 53,
     "metadata": {},
     "output_type": "execute_result"
    }
   ],
   "source": [
    "df.head(3)"
   ]
  },
  {
   "cell_type": "code",
   "execution_count": 54,
   "id": "3d8e6522",
   "metadata": {},
   "outputs": [
    {
     "data": {
      "text/plain": [
       "(2159, 2)"
      ]
     },
     "execution_count": 54,
     "metadata": {},
     "output_type": "execute_result"
    }
   ],
   "source": [
    "df_combined= df\n",
    "df_combined = df_combined.drop_duplicates()\n",
    "df_combined.shape"
   ]
  },
  {
   "cell_type": "code",
   "execution_count": 55,
   "id": "b332d943",
   "metadata": {},
   "outputs": [
    {
     "data": {
      "text/plain": [
       "label\n",
       "Recherche       581\n",
       "Memo            391\n",
       "Email/Lettre    330\n",
       "Clause          279\n",
       "argument        264\n",
       "Resume          208\n",
       "Follow up       106\n",
       "Name: count, dtype: int64"
      ]
     },
     "execution_count": 55,
     "metadata": {},
     "output_type": "execute_result"
    }
   ],
   "source": [
    "df_combined.label.value_counts()"
   ]
  },
  {
   "cell_type": "code",
   "execution_count": 56,
   "id": "0581c27b",
   "metadata": {},
   "outputs": [],
   "source": [
    "# df_combined['User Prompt'] = df_combined['User Prompt'].str.lower()\n",
    "# import re\n",
    "# keyword_check = [\n",
    "#     \"mémo\", \"mémorandum\", \"mémento\", \"vade-mecum\", \"note\", \"aide-mémoire\", \"pense-bête\",\n",
    "#     \"synthèse\", \"topo\", \"exposé\", \"étude\", \"explication\", \"énumération\", \"description\",\n",
    "#     \"expliquez le contexte\", \"énumérer les étapes\", \"mémo juridique\", \"memo\", \"memorandum\",\n",
    "#     \"reminder\", \"note\", \"aide-memoire\", \"summary\", \"synthesis\",\n",
    "#     \"exposition\", \"study\", \"explanation\", \"enumeration\", \"description\", \"sommaire\"\n",
    "# ]\n",
    "\n",
    "# # Escape keywords to handle special characters in regex\n",
    "# escaped_keywords = [re.escape(keyword) for keyword in keyword_check]\n",
    "\n",
    "# # Create regex pattern with word boundaries\n",
    "# pattern = r'\\b(' + '|'.join(escaped_keywords) + r')\\b'\n",
    "\n",
    "# # Filter rows containing the keywords\n",
    "# filtered_rows = df_combined[df_combined['User Prompt'].str.contains(pattern, case=False, na=False, regex=True)]\n",
    "# filtered_rows.shape\n",
    "# filtered_rows.to_excel(\"./data/filtered_rows_memo.xlsx\")"
   ]
  },
  {
   "cell_type": "code",
   "execution_count": 57,
   "id": "0ec82fd0",
   "metadata": {},
   "outputs": [
    {
     "name": "stdout",
     "output_type": "stream",
     "text": [
      "X_train shape: (1727,)\n",
      "y_train shape: (1727,)\n",
      "X_val shape: (216,)\n",
      "y_val shape: (216,)\n",
      "X_test shape: (216,)\n",
      "y_test shape: (216,)\n"
     ]
    },
    {
     "name": "stderr",
     "output_type": "stream",
     "text": [
      "Special tokens have been added in the vocabulary, make sure the associated word embeddings are fine-tuned or trained.\n"
     ]
    }
   ],
   "source": [
    "\n",
    "X_train, X_temp, y_train, y_temp = train_test_split(df_combined[\"User Prompt\"], df_combined[\"label\"], test_size=0.2, random_state=42)\n",
    "\n",
    "X_val, X_test, y_val, y_test = train_test_split(X_temp, y_temp, test_size=0.5, random_state=42)\n",
    "\n",
    "print(\"X_train shape:\", X_train.shape)\n",
    "print(\"y_train shape:\", y_train.shape)\n",
    "\n",
    "print(\"X_val shape:\", X_val.shape)\n",
    "print(\"y_val shape:\", y_val.shape)\n",
    "\n",
    "print(\"X_test shape:\", X_test.shape)\n",
    "print(\"y_test shape:\", y_test.shape)\n",
    "\n",
    "#create test set\n",
    "test_df = pd.DataFrame({'X_test': X_test, 'y_test': y_test})\n",
    "#test_df.to_excel('./training_data/test_data.xlsx', index=False)\n",
    "\n",
    "train_texts = X_train.tolist()\n",
    "val_texts = X_val.tolist()\n",
    "\n",
    "\n",
    "model_name = \"camembert-base\"\n",
    "tokenizer = CamembertTokenizer.from_pretrained(model_name)\n",
    "camembert = CamembertModel.from_pretrained(model_name)\n",
    "\n",
    "train_encodings = tokenizer(train_texts, truncation=True, padding=True)\n",
    "val_encodings = tokenizer(val_texts, truncation=True, padding=True)\n",
    "\n",
    "train_labels = y_train.tolist()\n",
    "val_labels = y_val.tolist()\n",
    "label_dict = {\"Recherche\": 0,\"Resume\": 1,\"Email/Lettre\": 2,\"Memo\": 3,\"Clause\": 4,\"argument\": 5, \"Follow up\":6}\n",
    "train_labels = [label_dict[label] for label in train_labels]\n",
    "val_labels = [label_dict[label] for label in val_labels]\n"
   ]
  },
  {
   "cell_type": "code",
   "execution_count": 58,
   "id": "2e42a1ee",
   "metadata": {},
   "outputs": [],
   "source": [
    "train_dataset = TensorDataset(\n",
    "    torch.tensor(train_encodings[\"input_ids\"]),\n",
    "    torch.tensor(train_encodings[\"attention_mask\"]),\n",
    "    torch.tensor(train_labels),\n",
    ")\n",
    "\n",
    "# train_loader = DataLoader(train_dataset, batch_size=64, shuffle=True)\n",
    "\n",
    "val_dataset = TensorDataset(\n",
    "    torch.tensor(val_encodings[\"input_ids\"]),\n",
    "    torch.tensor(val_encodings[\"attention_mask\"]),\n",
    "    torch.tensor(val_labels),\n",
    ")\n",
    "# val_loader = DataLoader(val_dataset, batch_size=64, shuffle=False)"
   ]
  },
  {
   "cell_type": "code",
   "execution_count": 59,
   "id": "d09dab28",
   "metadata": {},
   "outputs": [],
   "source": [
    "class CamembertClassifier(nn.Module):\n",
    "    def __init__(self, camembert_model_name='camembert-base', num_labels=2):\n",
    "        super(CamembertClassifier, self).__init__()\n",
    "        self.camembert = CamembertModel.from_pretrained(camembert_model_name)\n",
    "        self.linear1 = nn.Linear(self.camembert.config.hidden_size, 512)\n",
    "        self.linear2 = nn.Linear(512, num_labels)\n",
    "        self.relu = nn.ReLU()\n",
    "        self.dropout = nn.Dropout(0.3)\n",
    "\n",
    "    def forward(self, input_ids, attention_mask=None):\n",
    "        outputs = self.camembert(input_ids=input_ids, attention_mask=attention_mask)\n",
    "        cls_output = outputs[0][:, 0, :]  # Use the output of the [CLS] token\n",
    "        x = self.dropout(cls_output)\n",
    "        x = self.linear1(x)\n",
    "        x = self.relu(x)\n",
    "        logits = self.linear2(x)\n",
    "        return logits\n",
    "\n"
   ]
  },
  {
   "cell_type": "code",
   "execution_count": 60,
   "id": "a3375bd0",
   "metadata": {
    "scrolled": true
   },
   "outputs": [
    {
     "name": "stderr",
     "output_type": "stream",
     "text": [
      "Special tokens have been added in the vocabulary, make sure the associated word embeddings are fine-tuned or trained.\n"
     ]
    }
   ],
   "source": [
    "import torch.optim as optim\n",
    "from torch.utils.data import DataLoader, RandomSampler, SequentialSampler\n",
    "from transformers import get_linear_schedule_with_warmup, CamembertTokenizer, AdamW\n",
    "from tqdm import tqdm\n",
    "import os\n",
    "\n",
    "# Initialize tokenizer\n",
    "tokenizer = CamembertTokenizer.from_pretrained('camembert-base')\n",
    "\n",
    "# Hyperparameters\n",
    "num_epochs = 40\n",
    "learning_rate = 5e-5\n",
    "batch_size = 16\n",
    "warmup_steps = 20\n",
    "\n",
    "# Initialize model\n",
    "model = CamembertClassifier(num_labels=7)\n",
    "\n",
    "# # Freeze the first n layers of the Camembert model\n",
    "# for name, param in model.camembert.named_parameters():\n",
    "#     print(name)\n",
    "#     if \"embeddings\" in name:\n",
    "#         param.requires_grad = False\n",
    "#         print(\"Freeze\")\n",
    "        \n",
    "#     elif \"pooler\" in name:\n",
    "#         print(\"Unfreeze\")\n",
    "    \n",
    "#     elif int(name.split('.')[2]) < 6:\n",
    "#         param.requires_grad = False\n",
    "#         print(\"Freeze\")\n",
    "#     else:\n",
    "#          print(\"Unfreeze\")\n",
    "\n",
    "# Unfreeze all layers\n",
    "# for name, param in model.camembert.named_parameters():\n",
    "#     param.requires_grad = True\n",
    "# #     print(f\"{name} - Unfreeze\")\n",
    "        \n"
   ]
  },
  {
   "cell_type": "code",
   "execution_count": 61,
   "id": "ac1ce0f0",
   "metadata": {
    "scrolled": true
   },
   "outputs": [
    {
     "name": "stdout",
     "output_type": "stream",
     "text": [
      "embeddings.word_embeddings.weight\n",
      "embeddings.position_embeddings.weight\n",
      "embeddings.token_type_embeddings.weight\n",
      "embeddings.LayerNorm.weight\n",
      "embeddings.LayerNorm.bias\n",
      "encoder.layer.0.attention.self.query.weight\n",
      "encoder.layer.0.attention.self.query.bias\n",
      "encoder.layer.0.attention.self.key.weight\n",
      "encoder.layer.0.attention.self.key.bias\n",
      "encoder.layer.0.attention.self.value.weight\n",
      "encoder.layer.0.attention.self.value.bias\n",
      "encoder.layer.0.attention.output.dense.weight\n",
      "encoder.layer.0.attention.output.dense.bias\n",
      "encoder.layer.0.attention.output.LayerNorm.weight\n",
      "encoder.layer.0.attention.output.LayerNorm.bias\n",
      "encoder.layer.0.intermediate.dense.weight\n",
      "encoder.layer.0.intermediate.dense.bias\n",
      "encoder.layer.0.output.dense.weight\n",
      "encoder.layer.0.output.dense.bias\n",
      "encoder.layer.0.output.LayerNorm.weight\n",
      "encoder.layer.0.output.LayerNorm.bias\n",
      "encoder.layer.1.attention.self.query.weight\n",
      "encoder.layer.1.attention.self.query.bias\n",
      "encoder.layer.1.attention.self.key.weight\n",
      "encoder.layer.1.attention.self.key.bias\n",
      "encoder.layer.1.attention.self.value.weight\n",
      "encoder.layer.1.attention.self.value.bias\n",
      "encoder.layer.1.attention.output.dense.weight\n",
      "encoder.layer.1.attention.output.dense.bias\n",
      "encoder.layer.1.attention.output.LayerNorm.weight\n",
      "encoder.layer.1.attention.output.LayerNorm.bias\n",
      "encoder.layer.1.intermediate.dense.weight\n",
      "encoder.layer.1.intermediate.dense.bias\n",
      "encoder.layer.1.output.dense.weight\n",
      "encoder.layer.1.output.dense.bias\n",
      "encoder.layer.1.output.LayerNorm.weight\n",
      "encoder.layer.1.output.LayerNorm.bias\n",
      "encoder.layer.2.attention.self.query.weight\n",
      "encoder.layer.2.attention.self.query.bias\n",
      "encoder.layer.2.attention.self.key.weight\n",
      "encoder.layer.2.attention.self.key.bias\n",
      "encoder.layer.2.attention.self.value.weight\n",
      "encoder.layer.2.attention.self.value.bias\n",
      "encoder.layer.2.attention.output.dense.weight\n",
      "encoder.layer.2.attention.output.dense.bias\n",
      "encoder.layer.2.attention.output.LayerNorm.weight\n",
      "encoder.layer.2.attention.output.LayerNorm.bias\n",
      "encoder.layer.2.intermediate.dense.weight\n",
      "encoder.layer.2.intermediate.dense.bias\n",
      "encoder.layer.2.output.dense.weight\n",
      "encoder.layer.2.output.dense.bias\n",
      "encoder.layer.2.output.LayerNorm.weight\n",
      "encoder.layer.2.output.LayerNorm.bias\n",
      "encoder.layer.3.attention.self.query.weight\n",
      "encoder.layer.3.attention.self.query.bias\n",
      "encoder.layer.3.attention.self.key.weight\n",
      "encoder.layer.3.attention.self.key.bias\n",
      "encoder.layer.3.attention.self.value.weight\n",
      "encoder.layer.3.attention.self.value.bias\n",
      "encoder.layer.3.attention.output.dense.weight\n",
      "encoder.layer.3.attention.output.dense.bias\n",
      "encoder.layer.3.attention.output.LayerNorm.weight\n",
      "encoder.layer.3.attention.output.LayerNorm.bias\n",
      "encoder.layer.3.intermediate.dense.weight\n",
      "encoder.layer.3.intermediate.dense.bias\n",
      "encoder.layer.3.output.dense.weight\n",
      "encoder.layer.3.output.dense.bias\n",
      "encoder.layer.3.output.LayerNorm.weight\n",
      "encoder.layer.3.output.LayerNorm.bias\n",
      "encoder.layer.4.attention.self.query.weight\n",
      "encoder.layer.4.attention.self.query.bias\n",
      "encoder.layer.4.attention.self.key.weight\n",
      "encoder.layer.4.attention.self.key.bias\n",
      "encoder.layer.4.attention.self.value.weight\n",
      "encoder.layer.4.attention.self.value.bias\n",
      "encoder.layer.4.attention.output.dense.weight\n",
      "encoder.layer.4.attention.output.dense.bias\n",
      "encoder.layer.4.attention.output.LayerNorm.weight\n",
      "encoder.layer.4.attention.output.LayerNorm.bias\n",
      "encoder.layer.4.intermediate.dense.weight\n",
      "encoder.layer.4.intermediate.dense.bias\n",
      "encoder.layer.4.output.dense.weight\n",
      "encoder.layer.4.output.dense.bias\n",
      "encoder.layer.4.output.LayerNorm.weight\n",
      "encoder.layer.4.output.LayerNorm.bias\n",
      "encoder.layer.5.attention.self.query.weight\n",
      "encoder.layer.5.attention.self.query.bias\n",
      "encoder.layer.5.attention.self.key.weight\n",
      "encoder.layer.5.attention.self.key.bias\n",
      "encoder.layer.5.attention.self.value.weight\n",
      "encoder.layer.5.attention.self.value.bias\n",
      "encoder.layer.5.attention.output.dense.weight\n",
      "encoder.layer.5.attention.output.dense.bias\n",
      "encoder.layer.5.attention.output.LayerNorm.weight\n",
      "encoder.layer.5.attention.output.LayerNorm.bias\n",
      "encoder.layer.5.intermediate.dense.weight\n",
      "encoder.layer.5.intermediate.dense.bias\n",
      "encoder.layer.5.output.dense.weight\n",
      "encoder.layer.5.output.dense.bias\n",
      "encoder.layer.5.output.LayerNorm.weight\n",
      "encoder.layer.5.output.LayerNorm.bias\n",
      "encoder.layer.6.attention.self.query.weight\n",
      "encoder.layer.6.attention.self.query.bias\n",
      "encoder.layer.6.attention.self.key.weight\n",
      "encoder.layer.6.attention.self.key.bias\n",
      "encoder.layer.6.attention.self.value.weight\n",
      "encoder.layer.6.attention.self.value.bias\n",
      "encoder.layer.6.attention.output.dense.weight\n",
      "encoder.layer.6.attention.output.dense.bias\n",
      "encoder.layer.6.attention.output.LayerNorm.weight\n",
      "encoder.layer.6.attention.output.LayerNorm.bias\n",
      "encoder.layer.6.intermediate.dense.weight\n",
      "encoder.layer.6.intermediate.dense.bias\n",
      "encoder.layer.6.output.dense.weight\n",
      "encoder.layer.6.output.dense.bias\n",
      "encoder.layer.6.output.LayerNorm.weight\n",
      "encoder.layer.6.output.LayerNorm.bias\n",
      "encoder.layer.7.attention.self.query.weight\n",
      "encoder.layer.7.attention.self.query.bias\n",
      "encoder.layer.7.attention.self.key.weight\n",
      "encoder.layer.7.attention.self.key.bias\n",
      "encoder.layer.7.attention.self.value.weight\n",
      "encoder.layer.7.attention.self.value.bias\n",
      "encoder.layer.7.attention.output.dense.weight\n",
      "encoder.layer.7.attention.output.dense.bias\n",
      "encoder.layer.7.attention.output.LayerNorm.weight\n",
      "encoder.layer.7.attention.output.LayerNorm.bias\n",
      "encoder.layer.7.intermediate.dense.weight\n",
      "encoder.layer.7.intermediate.dense.bias\n",
      "encoder.layer.7.output.dense.weight\n",
      "encoder.layer.7.output.dense.bias\n",
      "encoder.layer.7.output.LayerNorm.weight\n",
      "encoder.layer.7.output.LayerNorm.bias\n",
      "encoder.layer.8.attention.self.query.weight\n",
      "encoder.layer.8.attention.self.query.bias\n",
      "encoder.layer.8.attention.self.key.weight\n",
      "encoder.layer.8.attention.self.key.bias\n",
      "encoder.layer.8.attention.self.value.weight\n",
      "encoder.layer.8.attention.self.value.bias\n",
      "encoder.layer.8.attention.output.dense.weight\n",
      "encoder.layer.8.attention.output.dense.bias\n",
      "encoder.layer.8.attention.output.LayerNorm.weight\n",
      "encoder.layer.8.attention.output.LayerNorm.bias\n",
      "encoder.layer.8.intermediate.dense.weight\n",
      "encoder.layer.8.intermediate.dense.bias\n",
      "encoder.layer.8.output.dense.weight\n",
      "encoder.layer.8.output.dense.bias\n",
      "encoder.layer.8.output.LayerNorm.weight\n",
      "encoder.layer.8.output.LayerNorm.bias\n",
      "encoder.layer.9.attention.self.query.weight\n",
      "encoder.layer.9.attention.self.query.bias\n",
      "encoder.layer.9.attention.self.key.weight\n",
      "encoder.layer.9.attention.self.key.bias\n",
      "encoder.layer.9.attention.self.value.weight\n",
      "encoder.layer.9.attention.self.value.bias\n",
      "encoder.layer.9.attention.output.dense.weight\n",
      "encoder.layer.9.attention.output.dense.bias\n",
      "encoder.layer.9.attention.output.LayerNorm.weight\n",
      "encoder.layer.9.attention.output.LayerNorm.bias\n",
      "encoder.layer.9.intermediate.dense.weight\n",
      "encoder.layer.9.intermediate.dense.bias\n",
      "encoder.layer.9.output.dense.weight\n",
      "encoder.layer.9.output.dense.bias\n",
      "encoder.layer.9.output.LayerNorm.weight\n",
      "encoder.layer.9.output.LayerNorm.bias\n",
      "encoder.layer.10.attention.self.query.weight\n",
      "encoder.layer.10.attention.self.query.bias\n",
      "encoder.layer.10.attention.self.key.weight\n",
      "encoder.layer.10.attention.self.key.bias\n",
      "encoder.layer.10.attention.self.value.weight\n",
      "encoder.layer.10.attention.self.value.bias\n",
      "encoder.layer.10.attention.output.dense.weight\n",
      "encoder.layer.10.attention.output.dense.bias\n",
      "encoder.layer.10.attention.output.LayerNorm.weight\n",
      "encoder.layer.10.attention.output.LayerNorm.bias\n",
      "encoder.layer.10.intermediate.dense.weight\n",
      "encoder.layer.10.intermediate.dense.bias\n",
      "encoder.layer.10.output.dense.weight\n",
      "encoder.layer.10.output.dense.bias\n",
      "encoder.layer.10.output.LayerNorm.weight\n",
      "encoder.layer.10.output.LayerNorm.bias\n",
      "encoder.layer.11.attention.self.query.weight\n",
      "encoder.layer.11.attention.self.query.bias\n",
      "encoder.layer.11.attention.self.key.weight\n",
      "encoder.layer.11.attention.self.key.bias\n",
      "encoder.layer.11.attention.self.value.weight\n",
      "encoder.layer.11.attention.self.value.bias\n",
      "encoder.layer.11.attention.output.dense.weight\n",
      "encoder.layer.11.attention.output.dense.bias\n",
      "encoder.layer.11.attention.output.LayerNorm.weight\n",
      "encoder.layer.11.attention.output.LayerNorm.bias\n",
      "encoder.layer.11.intermediate.dense.weight\n",
      "encoder.layer.11.intermediate.dense.bias\n",
      "encoder.layer.11.output.dense.weight\n",
      "encoder.layer.11.output.dense.bias\n",
      "encoder.layer.11.output.LayerNorm.weight\n",
      "encoder.layer.11.output.LayerNorm.bias\n",
      "pooler.dense.weight\n",
      "pooler.dense.bias\n",
      "camembert.embeddings.word_embeddings.weight\n",
      "camembert.embeddings.position_embeddings.weight\n",
      "camembert.embeddings.token_type_embeddings.weight\n",
      "camembert.embeddings.LayerNorm.weight\n",
      "camembert.embeddings.LayerNorm.bias\n",
      "camembert.encoder.layer.0.attention.self.query.weight\n",
      "camembert.encoder.layer.0.attention.self.query.bias\n",
      "camembert.encoder.layer.0.attention.self.key.weight\n",
      "camembert.encoder.layer.0.attention.self.key.bias\n",
      "camembert.encoder.layer.0.attention.self.value.weight\n",
      "camembert.encoder.layer.0.attention.self.value.bias\n",
      "camembert.encoder.layer.0.attention.output.dense.weight\n",
      "camembert.encoder.layer.0.attention.output.dense.bias\n",
      "camembert.encoder.layer.0.attention.output.LayerNorm.weight\n",
      "camembert.encoder.layer.0.attention.output.LayerNorm.bias\n",
      "camembert.encoder.layer.0.intermediate.dense.weight\n",
      "camembert.encoder.layer.0.intermediate.dense.bias\n",
      "camembert.encoder.layer.0.output.dense.weight\n",
      "camembert.encoder.layer.0.output.dense.bias\n",
      "camembert.encoder.layer.0.output.LayerNorm.weight\n",
      "camembert.encoder.layer.0.output.LayerNorm.bias\n",
      "camembert.encoder.layer.1.attention.self.query.weight\n",
      "camembert.encoder.layer.1.attention.self.query.bias\n",
      "camembert.encoder.layer.1.attention.self.key.weight\n",
      "camembert.encoder.layer.1.attention.self.key.bias\n",
      "camembert.encoder.layer.1.attention.self.value.weight\n",
      "camembert.encoder.layer.1.attention.self.value.bias\n",
      "camembert.encoder.layer.1.attention.output.dense.weight\n",
      "camembert.encoder.layer.1.attention.output.dense.bias\n",
      "camembert.encoder.layer.1.attention.output.LayerNorm.weight\n",
      "camembert.encoder.layer.1.attention.output.LayerNorm.bias\n",
      "camembert.encoder.layer.1.intermediate.dense.weight\n",
      "camembert.encoder.layer.1.intermediate.dense.bias\n",
      "camembert.encoder.layer.1.output.dense.weight\n",
      "camembert.encoder.layer.1.output.dense.bias\n",
      "camembert.encoder.layer.1.output.LayerNorm.weight\n",
      "camembert.encoder.layer.1.output.LayerNorm.bias\n",
      "camembert.encoder.layer.2.attention.self.query.weight\n",
      "camembert.encoder.layer.2.attention.self.query.bias\n",
      "camembert.encoder.layer.2.attention.self.key.weight\n",
      "camembert.encoder.layer.2.attention.self.key.bias\n",
      "camembert.encoder.layer.2.attention.self.value.weight\n",
      "camembert.encoder.layer.2.attention.self.value.bias\n",
      "camembert.encoder.layer.2.attention.output.dense.weight\n",
      "camembert.encoder.layer.2.attention.output.dense.bias\n",
      "camembert.encoder.layer.2.attention.output.LayerNorm.weight\n",
      "camembert.encoder.layer.2.attention.output.LayerNorm.bias\n",
      "camembert.encoder.layer.2.intermediate.dense.weight\n",
      "camembert.encoder.layer.2.intermediate.dense.bias\n",
      "camembert.encoder.layer.2.output.dense.weight\n",
      "camembert.encoder.layer.2.output.dense.bias\n",
      "camembert.encoder.layer.2.output.LayerNorm.weight\n",
      "camembert.encoder.layer.2.output.LayerNorm.bias\n",
      "camembert.encoder.layer.3.attention.self.query.weight\n",
      "camembert.encoder.layer.3.attention.self.query.bias\n",
      "camembert.encoder.layer.3.attention.self.key.weight\n",
      "camembert.encoder.layer.3.attention.self.key.bias\n",
      "camembert.encoder.layer.3.attention.self.value.weight\n",
      "camembert.encoder.layer.3.attention.self.value.bias\n",
      "camembert.encoder.layer.3.attention.output.dense.weight\n",
      "camembert.encoder.layer.3.attention.output.dense.bias\n",
      "camembert.encoder.layer.3.attention.output.LayerNorm.weight\n",
      "camembert.encoder.layer.3.attention.output.LayerNorm.bias\n",
      "camembert.encoder.layer.3.intermediate.dense.weight\n",
      "camembert.encoder.layer.3.intermediate.dense.bias\n",
      "camembert.encoder.layer.3.output.dense.weight\n",
      "camembert.encoder.layer.3.output.dense.bias\n",
      "camembert.encoder.layer.3.output.LayerNorm.weight\n",
      "camembert.encoder.layer.3.output.LayerNorm.bias\n",
      "camembert.encoder.layer.4.attention.self.query.weight\n",
      "camembert.encoder.layer.4.attention.self.query.bias\n",
      "camembert.encoder.layer.4.attention.self.key.weight\n",
      "camembert.encoder.layer.4.attention.self.key.bias\n",
      "camembert.encoder.layer.4.attention.self.value.weight\n",
      "camembert.encoder.layer.4.attention.self.value.bias\n",
      "camembert.encoder.layer.4.attention.output.dense.weight\n",
      "camembert.encoder.layer.4.attention.output.dense.bias\n",
      "camembert.encoder.layer.4.attention.output.LayerNorm.weight\n",
      "camembert.encoder.layer.4.attention.output.LayerNorm.bias\n",
      "camembert.encoder.layer.4.intermediate.dense.weight\n",
      "camembert.encoder.layer.4.intermediate.dense.bias\n",
      "camembert.encoder.layer.4.output.dense.weight\n",
      "camembert.encoder.layer.4.output.dense.bias\n",
      "camembert.encoder.layer.4.output.LayerNorm.weight\n",
      "camembert.encoder.layer.4.output.LayerNorm.bias\n",
      "camembert.encoder.layer.5.attention.self.query.weight\n",
      "camembert.encoder.layer.5.attention.self.query.bias\n",
      "camembert.encoder.layer.5.attention.self.key.weight\n",
      "camembert.encoder.layer.5.attention.self.key.bias\n",
      "camembert.encoder.layer.5.attention.self.value.weight\n",
      "camembert.encoder.layer.5.attention.self.value.bias\n",
      "camembert.encoder.layer.5.attention.output.dense.weight\n",
      "camembert.encoder.layer.5.attention.output.dense.bias\n",
      "camembert.encoder.layer.5.attention.output.LayerNorm.weight\n",
      "camembert.encoder.layer.5.attention.output.LayerNorm.bias\n",
      "camembert.encoder.layer.5.intermediate.dense.weight\n",
      "camembert.encoder.layer.5.intermediate.dense.bias\n",
      "camembert.encoder.layer.5.output.dense.weight\n",
      "camembert.encoder.layer.5.output.dense.bias\n",
      "camembert.encoder.layer.5.output.LayerNorm.weight\n",
      "camembert.encoder.layer.5.output.LayerNorm.bias\n",
      "camembert.encoder.layer.6.attention.self.query.weight\n",
      "camembert.encoder.layer.6.attention.self.query.bias\n",
      "camembert.encoder.layer.6.attention.self.key.weight\n",
      "camembert.encoder.layer.6.attention.self.key.bias\n",
      "camembert.encoder.layer.6.attention.self.value.weight\n",
      "camembert.encoder.layer.6.attention.self.value.bias\n",
      "camembert.encoder.layer.6.attention.output.dense.weight\n",
      "camembert.encoder.layer.6.attention.output.dense.bias\n",
      "camembert.encoder.layer.6.attention.output.LayerNorm.weight\n",
      "camembert.encoder.layer.6.attention.output.LayerNorm.bias\n",
      "camembert.encoder.layer.6.intermediate.dense.weight\n",
      "camembert.encoder.layer.6.intermediate.dense.bias\n",
      "camembert.encoder.layer.6.output.dense.weight\n",
      "camembert.encoder.layer.6.output.dense.bias\n",
      "camembert.encoder.layer.6.output.LayerNorm.weight\n",
      "camembert.encoder.layer.6.output.LayerNorm.bias\n",
      "camembert.encoder.layer.7.attention.self.query.weight\n",
      "camembert.encoder.layer.7.attention.self.query.bias\n",
      "camembert.encoder.layer.7.attention.self.key.weight\n",
      "camembert.encoder.layer.7.attention.self.key.bias\n",
      "camembert.encoder.layer.7.attention.self.value.weight\n",
      "camembert.encoder.layer.7.attention.self.value.bias\n",
      "camembert.encoder.layer.7.attention.output.dense.weight\n",
      "camembert.encoder.layer.7.attention.output.dense.bias\n",
      "camembert.encoder.layer.7.attention.output.LayerNorm.weight\n",
      "camembert.encoder.layer.7.attention.output.LayerNorm.bias\n",
      "camembert.encoder.layer.7.intermediate.dense.weight\n",
      "camembert.encoder.layer.7.intermediate.dense.bias\n",
      "camembert.encoder.layer.7.output.dense.weight\n",
      "camembert.encoder.layer.7.output.dense.bias\n",
      "camembert.encoder.layer.7.output.LayerNorm.weight\n",
      "camembert.encoder.layer.7.output.LayerNorm.bias\n",
      "camembert.encoder.layer.8.attention.self.query.weight\n",
      "camembert.encoder.layer.8.attention.self.query.bias\n",
      "camembert.encoder.layer.8.attention.self.key.weight\n",
      "camembert.encoder.layer.8.attention.self.key.bias\n",
      "camembert.encoder.layer.8.attention.self.value.weight\n",
      "camembert.encoder.layer.8.attention.self.value.bias\n",
      "camembert.encoder.layer.8.attention.output.dense.weight\n",
      "camembert.encoder.layer.8.attention.output.dense.bias\n",
      "camembert.encoder.layer.8.attention.output.LayerNorm.weight\n",
      "camembert.encoder.layer.8.attention.output.LayerNorm.bias\n",
      "camembert.encoder.layer.8.intermediate.dense.weight\n",
      "camembert.encoder.layer.8.intermediate.dense.bias\n",
      "camembert.encoder.layer.8.output.dense.weight\n",
      "camembert.encoder.layer.8.output.dense.bias\n",
      "camembert.encoder.layer.8.output.LayerNorm.weight\n",
      "camembert.encoder.layer.8.output.LayerNorm.bias\n",
      "camembert.encoder.layer.9.attention.self.query.weight\n",
      "camembert.encoder.layer.9.attention.self.query.bias\n",
      "camembert.encoder.layer.9.attention.self.key.weight\n",
      "camembert.encoder.layer.9.attention.self.key.bias\n",
      "camembert.encoder.layer.9.attention.self.value.weight\n",
      "camembert.encoder.layer.9.attention.self.value.bias\n",
      "camembert.encoder.layer.9.attention.output.dense.weight\n",
      "camembert.encoder.layer.9.attention.output.dense.bias\n",
      "camembert.encoder.layer.9.attention.output.LayerNorm.weight\n",
      "camembert.encoder.layer.9.attention.output.LayerNorm.bias\n",
      "camembert.encoder.layer.9.intermediate.dense.weight\n",
      "camembert.encoder.layer.9.intermediate.dense.bias\n",
      "camembert.encoder.layer.9.output.dense.weight\n",
      "camembert.encoder.layer.9.output.dense.bias\n",
      "camembert.encoder.layer.9.output.LayerNorm.weight\n",
      "camembert.encoder.layer.9.output.LayerNorm.bias\n",
      "camembert.encoder.layer.10.attention.self.query.weight\n",
      "camembert.encoder.layer.10.attention.self.query.bias\n",
      "camembert.encoder.layer.10.attention.self.key.weight\n",
      "camembert.encoder.layer.10.attention.self.key.bias\n",
      "camembert.encoder.layer.10.attention.self.value.weight\n",
      "camembert.encoder.layer.10.attention.self.value.bias\n",
      "camembert.encoder.layer.10.attention.output.dense.weight\n",
      "camembert.encoder.layer.10.attention.output.dense.bias\n",
      "camembert.encoder.layer.10.attention.output.LayerNorm.weight\n",
      "camembert.encoder.layer.10.attention.output.LayerNorm.bias\n",
      "camembert.encoder.layer.10.intermediate.dense.weight\n",
      "camembert.encoder.layer.10.intermediate.dense.bias\n",
      "camembert.encoder.layer.10.output.dense.weight\n",
      "camembert.encoder.layer.10.output.dense.bias\n",
      "camembert.encoder.layer.10.output.LayerNorm.weight\n",
      "camembert.encoder.layer.10.output.LayerNorm.bias\n",
      "camembert.encoder.layer.11.attention.self.query.weight\n",
      "camembert.encoder.layer.11.attention.self.query.bias\n",
      "camembert.encoder.layer.11.attention.self.key.weight\n",
      "camembert.encoder.layer.11.attention.self.key.bias\n",
      "camembert.encoder.layer.11.attention.self.value.weight\n",
      "camembert.encoder.layer.11.attention.self.value.bias\n",
      "camembert.encoder.layer.11.attention.output.dense.weight\n",
      "camembert.encoder.layer.11.attention.output.dense.bias\n",
      "camembert.encoder.layer.11.attention.output.LayerNorm.weight\n",
      "camembert.encoder.layer.11.attention.output.LayerNorm.bias\n",
      "camembert.encoder.layer.11.intermediate.dense.weight\n",
      "camembert.encoder.layer.11.intermediate.dense.bias\n",
      "camembert.encoder.layer.11.output.dense.weight\n",
      "camembert.encoder.layer.11.output.dense.bias\n",
      "camembert.encoder.layer.11.output.LayerNorm.weight\n",
      "camembert.encoder.layer.11.output.LayerNorm.bias\n",
      "camembert.pooler.dense.weight\n",
      "camembert.pooler.dense.bias\n",
      "linear1.weight\n",
      "linear1.bias\n",
      "linear2.weight\n",
      "linear2.bias\n"
     ]
    }
   ],
   "source": [
    "# check trianbale params in model\n",
    "\n",
    "for name, param in model.camembert.named_parameters():\n",
    "    if param.requires_grad == True:\n",
    "        print(name)\n",
    "        \n",
    "for name, param in model.named_parameters():\n",
    "    if param.requires_grad == True:\n",
    "        print(name)"
   ]
  },
  {
   "cell_type": "code",
   "execution_count": 62,
   "id": "d076327c",
   "metadata": {},
   "outputs": [],
   "source": [
    "\n",
    "# #Extract labels from train and validation datasets\n",
    "# train_labels = [label for _,_, label in train_dataset]\n",
    "# val_labels = [label for _,_, label in val_dataset]"
   ]
  },
  {
   "cell_type": "code",
   "execution_count": 64,
   "id": "b1f0d25a",
   "metadata": {},
   "outputs": [
    {
     "name": "stdout",
     "output_type": "stream",
     "text": [
      "\n"
     ]
    },
    {
     "name": "stderr",
     "output_type": "stream",
     "text": [
      "Training Epoch: 100%|██████████| 108/108 [00:14<00:00,  7.39it/s]\n"
     ]
    },
    {
     "name": "stdout",
     "output_type": "stream",
     "text": [
      "Epoch 1/40, Training Loss: 0.0030, Training Accuracy: 0.9913\n"
     ]
    },
    {
     "name": "stderr",
     "output_type": "stream",
     "text": [
      "Validation Epoch: 100%|██████████| 14/14 [00:00<00:00, 38.68it/s]\n"
     ]
    },
    {
     "name": "stdout",
     "output_type": "stream",
     "text": [
      "Epoch 1/40, Validation Loss: 0.0236, Validation Accuracy: 0.9167\n",
      "Best model saved to ./best_camembert_classifier/full_trained/ based on validation loss\n",
      "\n"
     ]
    },
    {
     "name": "stderr",
     "output_type": "stream",
     "text": [
      "Training Epoch: 100%|██████████| 108/108 [00:14<00:00,  7.40it/s]\n"
     ]
    },
    {
     "name": "stdout",
     "output_type": "stream",
     "text": [
      "Epoch 2/40, Training Loss: 0.0030, Training Accuracy: 0.9890\n"
     ]
    },
    {
     "name": "stderr",
     "output_type": "stream",
     "text": [
      "Validation Epoch: 100%|██████████| 14/14 [00:00<00:00, 38.88it/s]\n"
     ]
    },
    {
     "name": "stdout",
     "output_type": "stream",
     "text": [
      "Epoch 2/40, Validation Loss: 0.0238, Validation Accuracy: 0.9259\n",
      "Best model saved to ./best_camembert_classifier/full_trained/ based on validation accuracy\n",
      "\n"
     ]
    },
    {
     "name": "stderr",
     "output_type": "stream",
     "text": [
      "Training Epoch: 100%|██████████| 108/108 [00:14<00:00,  7.39it/s]\n"
     ]
    },
    {
     "name": "stdout",
     "output_type": "stream",
     "text": [
      "Epoch 3/40, Training Loss: 0.0044, Training Accuracy: 0.9844\n"
     ]
    },
    {
     "name": "stderr",
     "output_type": "stream",
     "text": [
      "Validation Epoch: 100%|██████████| 14/14 [00:00<00:00, 38.73it/s]\n"
     ]
    },
    {
     "name": "stdout",
     "output_type": "stream",
     "text": [
      "Epoch 3/40, Validation Loss: 0.0343, Validation Accuracy: 0.9213\n",
      "No improvement for 1 epochs\n",
      "\n"
     ]
    },
    {
     "name": "stderr",
     "output_type": "stream",
     "text": [
      "Training Epoch: 100%|██████████| 108/108 [00:14<00:00,  7.39it/s]\n"
     ]
    },
    {
     "name": "stdout",
     "output_type": "stream",
     "text": [
      "Epoch 4/40, Training Loss: 0.0026, Training Accuracy: 0.9902\n"
     ]
    },
    {
     "name": "stderr",
     "output_type": "stream",
     "text": [
      "Validation Epoch: 100%|██████████| 14/14 [00:00<00:00, 38.76it/s]\n"
     ]
    },
    {
     "name": "stdout",
     "output_type": "stream",
     "text": [
      "Epoch 4/40, Validation Loss: 0.0390, Validation Accuracy: 0.8935\n",
      "No improvement for 2 epochs\n",
      "\n"
     ]
    },
    {
     "name": "stderr",
     "output_type": "stream",
     "text": [
      "Training Epoch: 100%|██████████| 108/108 [00:14<00:00,  7.39it/s]\n"
     ]
    },
    {
     "name": "stdout",
     "output_type": "stream",
     "text": [
      "Epoch 5/40, Training Loss: 0.0017, Training Accuracy: 0.9925\n"
     ]
    },
    {
     "name": "stderr",
     "output_type": "stream",
     "text": [
      "Validation Epoch: 100%|██████████| 14/14 [00:00<00:00, 38.74it/s]\n"
     ]
    },
    {
     "name": "stdout",
     "output_type": "stream",
     "text": [
      "Epoch 5/40, Validation Loss: 0.0305, Validation Accuracy: 0.8981\n",
      "No improvement for 3 epochs\n",
      "\n"
     ]
    },
    {
     "name": "stderr",
     "output_type": "stream",
     "text": [
      "Training Epoch: 100%|██████████| 108/108 [00:14<00:00,  7.38it/s]\n"
     ]
    },
    {
     "name": "stdout",
     "output_type": "stream",
     "text": [
      "Epoch 6/40, Training Loss: 0.0023, Training Accuracy: 0.9925\n"
     ]
    },
    {
     "name": "stderr",
     "output_type": "stream",
     "text": [
      "Validation Epoch: 100%|██████████| 14/14 [00:00<00:00, 38.74it/s]\n"
     ]
    },
    {
     "name": "stdout",
     "output_type": "stream",
     "text": [
      "Epoch 6/40, Validation Loss: 0.0305, Validation Accuracy: 0.9028\n",
      "No improvement for 4 epochs\n",
      "\n"
     ]
    },
    {
     "name": "stderr",
     "output_type": "stream",
     "text": [
      "Training Epoch: 100%|██████████| 108/108 [00:14<00:00,  7.38it/s]\n"
     ]
    },
    {
     "name": "stdout",
     "output_type": "stream",
     "text": [
      "Epoch 7/40, Training Loss: 0.0175, Training Accuracy: 0.9160\n"
     ]
    },
    {
     "name": "stderr",
     "output_type": "stream",
     "text": [
      "Validation Epoch: 100%|██████████| 14/14 [00:00<00:00, 38.70it/s]\n"
     ]
    },
    {
     "name": "stdout",
     "output_type": "stream",
     "text": [
      "Epoch 7/40, Validation Loss: 0.0252, Validation Accuracy: 0.9352\n",
      "Best model saved to ./best_camembert_classifier/full_trained/ based on validation accuracy\n",
      "\n"
     ]
    },
    {
     "name": "stderr",
     "output_type": "stream",
     "text": [
      "Training Epoch: 100%|██████████| 108/108 [00:14<00:00,  7.38it/s]\n"
     ]
    },
    {
     "name": "stdout",
     "output_type": "stream",
     "text": [
      "Epoch 8/40, Training Loss: 0.0063, Training Accuracy: 0.9693\n"
     ]
    },
    {
     "name": "stderr",
     "output_type": "stream",
     "text": [
      "Validation Epoch: 100%|██████████| 14/14 [00:00<00:00, 38.61it/s]\n"
     ]
    },
    {
     "name": "stdout",
     "output_type": "stream",
     "text": [
      "Epoch 8/40, Validation Loss: 0.0263, Validation Accuracy: 0.9352\n",
      "No improvement for 1 epochs\n",
      "\n"
     ]
    },
    {
     "name": "stderr",
     "output_type": "stream",
     "text": [
      "Training Epoch: 100%|██████████| 108/108 [00:14<00:00,  7.38it/s]\n"
     ]
    },
    {
     "name": "stdout",
     "output_type": "stream",
     "text": [
      "Epoch 9/40, Training Loss: 0.0033, Training Accuracy: 0.9849\n"
     ]
    },
    {
     "name": "stderr",
     "output_type": "stream",
     "text": [
      "Validation Epoch: 100%|██████████| 14/14 [00:00<00:00, 38.69it/s]\n"
     ]
    },
    {
     "name": "stdout",
     "output_type": "stream",
     "text": [
      "Epoch 9/40, Validation Loss: 0.0324, Validation Accuracy: 0.9074\n",
      "No improvement for 2 epochs\n",
      "\n"
     ]
    },
    {
     "name": "stderr",
     "output_type": "stream",
     "text": [
      "Training Epoch: 100%|██████████| 108/108 [00:14<00:00,  7.38it/s]\n"
     ]
    },
    {
     "name": "stdout",
     "output_type": "stream",
     "text": [
      "Epoch 10/40, Training Loss: 0.0023, Training Accuracy: 0.9890\n"
     ]
    },
    {
     "name": "stderr",
     "output_type": "stream",
     "text": [
      "Validation Epoch: 100%|██████████| 14/14 [00:00<00:00, 38.69it/s]\n"
     ]
    },
    {
     "name": "stdout",
     "output_type": "stream",
     "text": [
      "Epoch 10/40, Validation Loss: 0.0321, Validation Accuracy: 0.9074\n",
      "No improvement for 3 epochs\n",
      "\n"
     ]
    },
    {
     "name": "stderr",
     "output_type": "stream",
     "text": [
      "Training Epoch: 100%|██████████| 108/108 [00:14<00:00,  7.39it/s]\n"
     ]
    },
    {
     "name": "stdout",
     "output_type": "stream",
     "text": [
      "Epoch 11/40, Training Loss: 0.0023, Training Accuracy: 0.9867\n"
     ]
    },
    {
     "name": "stderr",
     "output_type": "stream",
     "text": [
      "Validation Epoch: 100%|██████████| 14/14 [00:00<00:00, 38.68it/s]\n"
     ]
    },
    {
     "name": "stdout",
     "output_type": "stream",
     "text": [
      "Epoch 11/40, Validation Loss: 0.0370, Validation Accuracy: 0.9028\n",
      "No improvement for 4 epochs\n",
      "\n"
     ]
    },
    {
     "name": "stderr",
     "output_type": "stream",
     "text": [
      "Training Epoch: 100%|██████████| 108/108 [00:14<00:00,  7.39it/s]\n"
     ]
    },
    {
     "name": "stdout",
     "output_type": "stream",
     "text": [
      "Epoch 12/40, Training Loss: 0.0025, Training Accuracy: 0.9902\n"
     ]
    },
    {
     "name": "stderr",
     "output_type": "stream",
     "text": [
      "Validation Epoch: 100%|██████████| 14/14 [00:00<00:00, 38.73it/s]\n"
     ]
    },
    {
     "name": "stdout",
     "output_type": "stream",
     "text": [
      "Epoch 12/40, Validation Loss: 0.0268, Validation Accuracy: 0.9306\n",
      "No improvement for 5 epochs\n",
      "\n"
     ]
    },
    {
     "name": "stderr",
     "output_type": "stream",
     "text": [
      "Training Epoch: 100%|██████████| 108/108 [00:14<00:00,  7.39it/s]\n"
     ]
    },
    {
     "name": "stdout",
     "output_type": "stream",
     "text": [
      "Epoch 13/40, Training Loss: 0.0020, Training Accuracy: 0.9890\n"
     ]
    },
    {
     "name": "stderr",
     "output_type": "stream",
     "text": [
      "Validation Epoch: 100%|██████████| 14/14 [00:00<00:00, 38.69it/s]"
     ]
    },
    {
     "name": "stdout",
     "output_type": "stream",
     "text": [
      "Epoch 13/40, Validation Loss: 0.0308, Validation Accuracy: 0.9213\n",
      "No improvement for 6 epochs\n",
      "Early stopping at epoch 13\n",
      "Training complete. Best model saved based on validation loss or accuracy.\n"
     ]
    },
    {
     "name": "stderr",
     "output_type": "stream",
     "text": [
      "\n"
     ]
    }
   ],
   "source": [
    "# Move model to the appropriate device (GPU or CPU)\n",
    "device = torch.device('cuda' if torch.cuda.is_available() else 'cpu')\n",
    "model.to(device)\n",
    "\n",
    "# Define the optimizer (example with weight decay)\n",
    "optimizer_grouped_parameters = [\n",
    "    {'params': [p for n, p in model.named_parameters() if p.requires_grad], 'weight_decay': 0.01}\n",
    "]\n",
    "\n",
    "optimizer = AdamW(optimizer_grouped_parameters, lr=learning_rate)\n",
    "\n",
    "#Extract labels from train and validation datasets\n",
    "train_labels = [label for _,_, label in train_dataset]\n",
    "val_labels = [label for _,_, label in val_dataset]\n",
    "\n",
    "# Calculate label weights to balance sampling probabilities\n",
    "train_class_counts = np.bincount(train_labels)\n",
    "train_class_weights = 1.0 / train_class_counts\n",
    "train_sample_weights = [train_class_weights[label] for label in train_labels]\n",
    "\n",
    "val_class_counts = np.bincount(val_labels)\n",
    "val_class_weights = 1.0 / val_class_counts\n",
    "val_sample_weights = [val_class_weights[label] for label in val_labels]\n",
    "\n",
    "# Create samplers with weights\n",
    "train_sampler = WeightedRandomSampler(train_sample_weights, len(train_sample_weights))\n",
    "val_sampler = WeightedRandomSampler(val_sample_weights, len(val_sample_weights))\n",
    "\n",
    "# Create dataloaders with weighted samplers\n",
    "train_dataloader = DataLoader(train_dataset, sampler=train_sampler, batch_size=batch_size)\n",
    "val_dataloader = DataLoader(val_dataset, sampler=val_sampler, batch_size=batch_size)\n",
    "\n",
    "# # Create dataloaders for train and validation sets\n",
    "# train_dataloader = DataLoader(train_dataset, sampler=RandomSampler(train_dataset), batch_size=batch_size)\n",
    "# val_dataloader = DataLoader(val_dataset, sampler=SequentialSampler(val_dataset), batch_size=batch_size)\n",
    "\n",
    "# Learning rate scheduler\n",
    "total_steps = len(train_dataloader) * num_epochs\n",
    "scheduler = get_linear_schedule_with_warmup(optimizer, num_warmup_steps=warmup_steps, num_training_steps=total_steps)\n",
    "\n",
    "# Initialize variables to track the best model with early stopping\n",
    "best_val_loss = float('inf')\n",
    "best_val_acc = 0\n",
    "best_model_path = './best_camembert_classifier/full_trained/'\n",
    "early_stopping_patience = 6\n",
    "no_improvement_epochs = 0\n",
    "\n",
    "# Training loop\n",
    "for epoch in range(num_epochs):\n",
    "    print()\n",
    "    model.train()\n",
    "    epoch_train_loss = 0\n",
    "    correct_train_preds = 0\n",
    "    total_train_preds = 0\n",
    "    \n",
    "    for batch in tqdm(train_dataloader, desc=\"Training Epoch\", leave=True):\n",
    "        # Move batch to device\n",
    "        input_ids, attention_mask, labels = tuple(t.to(device) for t in batch)\n",
    "        \n",
    "        # Zero gradients, perform forward pass, compute loss, and backpropagate\n",
    "        optimizer.zero_grad()\n",
    "        outputs = model(input_ids=input_ids, attention_mask=attention_mask)\n",
    "        loss = nn.CrossEntropyLoss()(outputs, labels)\n",
    "        loss.backward()\n",
    "        optimizer.step()\n",
    "        scheduler.step()\n",
    "        \n",
    "        # Calculate training accuracy\n",
    "        preds = torch.argmax(outputs, dim=-1)\n",
    "        correct_train_preds += (preds == labels).sum().item()\n",
    "        total_train_preds += labels.size(0)\n",
    "        \n",
    "        # Track the training loss\n",
    "        epoch_train_loss += loss.item()\n",
    "\n",
    "    # Calculate average training loss and accuracy\n",
    "    avg_train_loss = epoch_train_loss / len(train_dataloader.dataset)\n",
    "    train_accuracy = correct_train_preds / total_train_preds\n",
    "    print(f\"Epoch {epoch+1}/{num_epochs}, Training Loss: {avg_train_loss:.4f}, Training Accuracy: {train_accuracy:.4f}\")\n",
    "    \n",
    "    # Validation loop\n",
    "    model.eval()\n",
    "    epoch_val_loss = 0\n",
    "    correct_val_preds = 0\n",
    "    total_val_preds = 0\n",
    "    \n",
    "    with torch.no_grad():\n",
    "        for batch in tqdm(val_dataloader, desc=\"Validation Epoch\", leave=True):\n",
    "            # Move batch to device\n",
    "            input_ids, attention_mask, labels = tuple(t.to(device) for t in batch)\n",
    "            \n",
    "            # Forward pass for validation\n",
    "            outputs = model(input_ids=input_ids, attention_mask=attention_mask)\n",
    "            loss = nn.CrossEntropyLoss()(outputs, labels)\n",
    "            \n",
    "            # Calculate validation accuracy\n",
    "            preds = torch.argmax(outputs, dim=-1)\n",
    "            correct_val_preds += (preds == labels).sum().item()\n",
    "            total_val_preds += labels.size(0)\n",
    "            \n",
    "            # Track the validation loss\n",
    "            epoch_val_loss += loss.item()\n",
    "\n",
    "    # Calculate average validation loss and accuracy\n",
    "    avg_val_loss = epoch_val_loss / len(val_dataloader.dataset)\n",
    "    val_accuracy = correct_val_preds / total_val_preds\n",
    "    print(f\"Epoch {epoch+1}/{num_epochs}, Validation Loss: {avg_val_loss:.4f}, Validation Accuracy: {val_accuracy:.4f}\")\n",
    "\n",
    "    # Check for improvement\n",
    "    if avg_val_loss < best_val_loss:\n",
    "        best_val_loss = avg_val_loss\n",
    "        best_val_acc = val_accuracy\n",
    "        no_improvement_epochs = 0\n",
    "        os.makedirs(best_model_path, exist_ok=True)\n",
    "        torch.save(model.state_dict(), os.path.join(best_model_path, \"pytorch_model.pth\"))\n",
    "        tokenizer.save_pretrained(best_model_path)\n",
    "        print(f\"Best model saved to {best_model_path} based on validation loss\")\n",
    "\n",
    "    elif val_accuracy > best_val_acc:\n",
    "        best_val_acc = val_accuracy\n",
    "        no_improvement_epochs = 0\n",
    "        os.makedirs(best_model_path, exist_ok=True)\n",
    "        torch.save(model.state_dict(), os.path.join(best_model_path, \"pytorch_model.pth\"))\n",
    "        tokenizer.save_pretrained(best_model_path)\n",
    "        print(f\"Best model saved to {best_model_path} based on validation accuracy\")\n",
    "\n",
    "    else:\n",
    "        no_improvement_epochs += 1\n",
    "        print(f\"No improvement for {no_improvement_epochs} epochs\")\n",
    "\n",
    "    # Early stopping condition\n",
    "    if no_improvement_epochs >= early_stopping_patience:\n",
    "        print(f\"Early stopping at epoch {epoch+1}\")\n",
    "        break\n",
    "\n",
    "print(\"Training complete. Best model saved based on validation loss or accuracy.\")"
   ]
  },
  {
   "cell_type": "markdown",
   "id": "8d83ffce",
   "metadata": {},
   "source": [
    "## Testing on validation set"
   ]
  },
  {
   "cell_type": "code",
   "execution_count": 65,
   "id": "b822e69c",
   "metadata": {
    "scrolled": true
   },
   "outputs": [
    {
     "name": "stderr",
     "output_type": "stream",
     "text": [
      "Special tokens have been added in the vocabulary, make sure the associated word embeddings are fine-tuned or trained.\n",
      "/tmp/ipykernel_31885/4215055508.py:8: FutureWarning: You are using `torch.load` with `weights_only=False` (the current default value), which uses the default pickle module implicitly. It is possible to construct malicious pickle data which will execute arbitrary code during unpickling (See https://github.com/pytorch/pytorch/blob/main/SECURITY.md#untrusted-models for more details). In a future release, the default value for `weights_only` will be flipped to `True`. This limits the functions that could be executed during unpickling. Arbitrary objects will no longer be allowed to be loaded via this mode unless they are explicitly allowlisted by the user via `torch.serialization.add_safe_globals`. We recommend you start setting `weights_only=True` for any use case where you don't have full control of the loaded file. Please open an issue on GitHub for any issues related to this experimental feature.\n",
      "  fine_tuned_model.load_state_dict(torch.load(os.path.join(best_model_path, \"pytorch_model.pth\")))\n"
     ]
    },
    {
     "data": {
      "text/plain": [
       "CamembertClassifier(\n",
       "  (camembert): CamembertModel(\n",
       "    (embeddings): CamembertEmbeddings(\n",
       "      (word_embeddings): Embedding(32005, 768, padding_idx=1)\n",
       "      (position_embeddings): Embedding(514, 768, padding_idx=1)\n",
       "      (token_type_embeddings): Embedding(1, 768)\n",
       "      (LayerNorm): LayerNorm((768,), eps=1e-05, elementwise_affine=True)\n",
       "      (dropout): Dropout(p=0.1, inplace=False)\n",
       "    )\n",
       "    (encoder): CamembertEncoder(\n",
       "      (layer): ModuleList(\n",
       "        (0-11): 12 x CamembertLayer(\n",
       "          (attention): CamembertAttention(\n",
       "            (self): CamembertSelfAttention(\n",
       "              (query): Linear(in_features=768, out_features=768, bias=True)\n",
       "              (key): Linear(in_features=768, out_features=768, bias=True)\n",
       "              (value): Linear(in_features=768, out_features=768, bias=True)\n",
       "              (dropout): Dropout(p=0.1, inplace=False)\n",
       "            )\n",
       "            (output): CamembertSelfOutput(\n",
       "              (dense): Linear(in_features=768, out_features=768, bias=True)\n",
       "              (LayerNorm): LayerNorm((768,), eps=1e-05, elementwise_affine=True)\n",
       "              (dropout): Dropout(p=0.1, inplace=False)\n",
       "            )\n",
       "          )\n",
       "          (intermediate): CamembertIntermediate(\n",
       "            (dense): Linear(in_features=768, out_features=3072, bias=True)\n",
       "            (intermediate_act_fn): GELUActivation()\n",
       "          )\n",
       "          (output): CamembertOutput(\n",
       "            (dense): Linear(in_features=3072, out_features=768, bias=True)\n",
       "            (LayerNorm): LayerNorm((768,), eps=1e-05, elementwise_affine=True)\n",
       "            (dropout): Dropout(p=0.1, inplace=False)\n",
       "          )\n",
       "        )\n",
       "      )\n",
       "    )\n",
       "    (pooler): CamembertPooler(\n",
       "      (dense): Linear(in_features=768, out_features=768, bias=True)\n",
       "      (activation): Tanh()\n",
       "    )\n",
       "  )\n",
       "  (linear1): Linear(in_features=768, out_features=512, bias=True)\n",
       "  (linear2): Linear(in_features=512, out_features=7, bias=True)\n",
       "  (relu): ReLU()\n",
       "  (dropout): Dropout(p=0.3, inplace=False)\n",
       ")"
      ]
     },
     "execution_count": 65,
     "metadata": {},
     "output_type": "execute_result"
    }
   ],
   "source": [
    "#Loading the best model\n",
    "from transformers import AutoTokenizer\n",
    "\n",
    "fine_tuned_model = CamembertClassifier(num_labels=7)\n",
    "tokenizer = CamembertTokenizer.from_pretrained('camembert-base')\n",
    "\n",
    "# Load the state_dict for the model\n",
    "fine_tuned_model.load_state_dict(torch.load(os.path.join(best_model_path, \"pytorch_model.pth\")))\n",
    "\n",
    "# Load the tokenizer\n",
    "# tokenizer = AutoTokenizer.from_pretrained(best_model_path)\n",
    "\n",
    "# Set the model to evaluation mode\n",
    "fine_tuned_model.eval()"
   ]
  },
  {
   "cell_type": "code",
   "execution_count": 66,
   "id": "6d1f4232",
   "metadata": {},
   "outputs": [
    {
     "name": "stdout",
     "output_type": "stream",
     "text": [
      "                                                 X_test        y_test\n",
      "1459  Peut-on appliquer la complicité aux infraction...     Recherche\n",
      "233   Rédige une lettre de transmission d'un mémoire...  Email/Lettre\n",
      "1618  Est-ce que je peux demander un dédommagement? ...     Recherche\n",
      "1189  CAA Nancy, 3e ch., arrêt, 13 avr. 2021, n° 20N...        Resume\n",
      "1121  Demandez un résumé de TA Strasbourg, 22 décemb...        Resume\n",
      "y_test\n",
      "Recherche       60\n",
      "Memo            36\n",
      "Clause          35\n",
      "Email/Lettre    30\n",
      "argument        24\n",
      "Resume          21\n",
      "Follow up       10\n",
      "Name: count, dtype: int64\n"
     ]
    }
   ],
   "source": [
    "label_dict = {\"Recherche\": 0,\"Resume\": 1,\"Email/Lettre\": 2,\"Memo\": 3,\"Clause\": 4,\"argument\": 5, \"Follow up\":6}\n",
    "class_names = [\"Recherche\", \"Resume\", \"Email/Lettre\", \"Memo\", \"Clause\", \"argument\", \"Follow up\"]\n",
    "\n",
    "test_texts = test_df[\"X_test\"].tolist()\n",
    "test_labels = test_df[\"y_test\"].tolist()\n",
    "numeric_labels = [label_dict[label] for label in test_labels]\n",
    "\n",
    "print(test_df.head(5))\n",
    "print(test_df[\"y_test\"].value_counts())"
   ]
  },
  {
   "cell_type": "code",
   "execution_count": 67,
   "id": "a243ecf2",
   "metadata": {},
   "outputs": [],
   "source": [
    "test_encodings = tokenizer(test_texts, truncation=True, padding=True)\n",
    "test_dataset = TensorDataset(\n",
    "    torch.tensor(test_encodings[\"input_ids\"]),\n",
    "    torch.tensor(test_encodings[\"attention_mask\"]),\n",
    "    torch.tensor(numeric_labels),\n",
    ")\n",
    "test_loader = DataLoader(test_dataset, batch_size=64, shuffle=False)"
   ]
  },
  {
   "cell_type": "code",
   "execution_count": 68,
   "id": "fb782b88",
   "metadata": {},
   "outputs": [],
   "source": [
    "import numpy as np\n",
    "import matplotlib.pyplot as plt\n",
    "from sklearn.metrics import ConfusionMatrixDisplay, confusion_matrix\n",
    "\n",
    "# Make predictions on the test set\n",
    "queries = []\n",
    "true_labels = []\n",
    "predicted_labels = []\n",
    "with torch.no_grad():\n",
    "    for batch in test_loader:\n",
    "        input_ids, attention_mask, batch_labels = tuple(t.to(device) for t in batch)\n",
    "        logits = model(input_ids, attention_mask)\n",
    "        _, preds = torch.max(logits, dim=1)\n",
    "        queries += tokenizer.batch_decode(input_ids, skip_special_tokens=True)\n",
    "        true_labels += batch_labels.cpu().numpy().tolist()\n",
    "\n",
    "        predicted_labels += preds.cpu().numpy().tolist()"
   ]
  },
  {
   "cell_type": "code",
   "execution_count": 69,
   "id": "ddc8fe0a",
   "metadata": {},
   "outputs": [],
   "source": [
    "true_labels= [class_names[label] for label in true_labels]\n",
    "predicted_labels = [class_names[label] for label in predicted_labels]"
   ]
  },
  {
   "cell_type": "code",
   "execution_count": 70,
   "id": "21200a7e",
   "metadata": {},
   "outputs": [
    {
     "data": {
      "image/png": "[encoded data removed]",
      "text/plain": [
       "<Figure size 1000x1000 with 2 Axes>"
      ]
     },
     "metadata": {},
     "output_type": "display_data"
    }
   ],
   "source": [
    "# Create the confusion matrix\n",
    "cm = confusion_matrix(true_labels, predicted_labels, labels=class_names)\n",
    "\n",
    "# Plot the confusion matrix\n",
    "fig, ax = plt.subplots(figsize=(10, 10))\n",
    "disp = ConfusionMatrixDisplay(confusion_matrix=cm, display_labels=class_names)\n",
    "disp.plot(include_values=True, cmap=\"Blues\", ax=ax, xticks_rotation=\"horizontal\")\n",
    "plt.show()"
   ]
  },
  {
   "cell_type": "code",
   "execution_count": 71,
   "id": "cf51d47d",
   "metadata": {},
   "outputs": [
    {
     "name": "stdout",
     "output_type": "stream",
     "text": [
      "              precision    recall  f1-score   support\n",
      "\n",
      "   Recherche       0.97      0.93      0.95        60\n",
      "      Resume       1.00      1.00      1.00        21\n",
      "Email/Lettre       0.79      1.00      0.88        30\n",
      "        Memo       0.92      0.92      0.92        36\n",
      "      Clause       1.00      0.94      0.97        35\n",
      "    argument       0.92      0.92      0.92        24\n",
      "   Follow up       1.00      0.60      0.75        10\n",
      "\n",
      "    accuracy                           0.93       216\n",
      "   macro avg       0.94      0.90      0.91       216\n",
      "weighted avg       0.94      0.93      0.93       216\n",
      "\n"
     ]
    }
   ],
   "source": [
    "from sklearn.metrics import classification_report\n",
    "\n",
    "class_names = [\"Recherche\", \"Resume\", \"Email/Lettre\", \"Memo\", \"Clause\", \"argument\", \"Follow up\"]\n",
    "report = classification_report(true_labels, predicted_labels, labels=class_names)\n",
    "\n",
    "print(report)"
   ]
  },
  {
   "cell_type": "markdown",
   "id": "523a8387",
   "metadata": {},
   "source": [
    "## Testing data with not exposed set"
   ]
  },
  {
   "cell_type": "code",
   "execution_count": 72,
   "id": "3dae4207",
   "metadata": {},
   "outputs": [],
   "source": [
    "test_set = pd.read_excel(\"data/all_intent_model_test_set_final.xlsx\")\n",
    "test_set = test_set[[\"Query\",\"Label\"]].rename(columns={\"Query\": \"X_test\", \"Label\": \"y_test\"})[[\"X_test\", \"y_test\"]]"
   ]
  },
  {
   "cell_type": "code",
   "execution_count": 73,
   "id": "cf96f3e9",
   "metadata": {},
   "outputs": [
    {
     "name": "stdout",
     "output_type": "stream",
     "text": [
      "y_test\n",
      "Recherche       77\n",
      "Memo            43\n",
      "Email/Lettre    41\n",
      "Clause          23\n",
      "argument        23\n",
      "Resume          22\n",
      "Follow up       15\n",
      "Name: count, dtype: int64\n"
     ]
    }
   ],
   "source": [
    "# test_set = pd.read_excel(\"../data/my_test_utf8.xlsx\").rename(columns={\"query\": \"X_test\", \"intent-groundtruth\": \"y_test\"})[[\"X_test\", \"y_test\"]]\n",
    "# print(test_set.head(5))\n",
    "\n",
    "print(test_set[\"y_test\"].value_counts())\n",
    "\n",
    "test_texts = test_set[\"X_test\"].tolist()\n",
    "test_labels = test_set[\"y_test\"].tolist()\n",
    "numeric_labels = [label_dict[label] for label in test_labels]\n"
   ]
  },
  {
   "cell_type": "code",
   "execution_count": 74,
   "id": "49231c52",
   "metadata": {},
   "outputs": [],
   "source": [
    "test_encodings = tokenizer(test_texts, truncation=True, padding=True)\n",
    "test_dataset = TensorDataset(\n",
    "    torch.tensor(test_encodings[\"input_ids\"]),\n",
    "    torch.tensor(test_encodings[\"attention_mask\"]),\n",
    "    torch.tensor(numeric_labels),\n",
    ")\n",
    "test_loader = DataLoader(test_dataset, batch_size=64, shuffle=False)"
   ]
  },
  {
   "cell_type": "code",
   "execution_count": 75,
   "id": "3295db5b",
   "metadata": {},
   "outputs": [],
   "source": [
    "import numpy as np\n",
    "import matplotlib.pyplot as plt\n",
    "from sklearn.metrics import ConfusionMatrixDisplay, confusion_matrix\n",
    "\n",
    "# Make predictions on the test set\n",
    "queries = []\n",
    "true_labels = []\n",
    "predicted_labels = []\n",
    "with torch.no_grad():\n",
    "    for batch in test_loader:\n",
    "        input_ids, attention_mask, batch_labels = tuple(t.to(device) for t in batch)\n",
    "        logits = model(input_ids, attention_mask)\n",
    "        _, preds = torch.max(logits, dim=1)\n",
    "        queries += tokenizer.batch_decode(input_ids, skip_special_tokens=True)\n",
    "        true_labels += batch_labels.cpu().numpy().tolist()\n",
    "\n",
    "        predicted_labels += preds.cpu().numpy().tolist()"
   ]
  },
  {
   "cell_type": "code",
   "execution_count": 76,
   "id": "a472ee7b",
   "metadata": {},
   "outputs": [],
   "source": [
    "# predicted_labels\n",
    "# true_labels"
   ]
  },
  {
   "cell_type": "code",
   "execution_count": 77,
   "id": "70aebc41",
   "metadata": {},
   "outputs": [
    {
     "data": {
      "text/html": [
       "<div>\n",
       "<style scoped>\n",
       "    .dataframe tbody tr th:only-of-type {\n",
       "        vertical-align: middle;\n",
       "    }\n",
       "\n",
       "    .dataframe tbody tr th {\n",
       "        vertical-align: top;\n",
       "    }\n",
       "\n",
       "    .dataframe thead th {\n",
       "        text-align: right;\n",
       "    }\n",
       "</style>\n",
       "<table border=\"1\" class=\"dataframe\">\n",
       "  <thead>\n",
       "    <tr style=\"text-align: right;\">\n",
       "      <th></th>\n",
       "      <th>query</th>\n",
       "      <th>label</th>\n",
       "      <th>prediction</th>\n",
       "    </tr>\n",
       "  </thead>\n",
       "  <tbody>\n",
       "    <tr>\n",
       "      <th>0</th>\n",
       "      <td>Rédige moi une clause de non-sollicitation de ...</td>\n",
       "      <td>Clause</td>\n",
       "      <td>Clause</td>\n",
       "    </tr>\n",
       "    <tr>\n",
       "      <th>1</th>\n",
       "      <td>Je veux une clause de nomination de mandataire...</td>\n",
       "      <td>Clause</td>\n",
       "      <td>Clause</td>\n",
       "    </tr>\n",
       "    <tr>\n",
       "      <th>2</th>\n",
       "      <td>Je veux une clause d'administration prolongée ...</td>\n",
       "      <td>Clause</td>\n",
       "      <td>Clause</td>\n",
       "    </tr>\n",
       "    <tr>\n",
       "      <th>3</th>\n",
       "      <td>Rédige-moi une clause de limitation territoria...</td>\n",
       "      <td>Clause</td>\n",
       "      <td>Clause</td>\n",
       "    </tr>\n",
       "    <tr>\n",
       "      <th>4</th>\n",
       "      <td>Donne moi une clause de volonté pour dispositi...</td>\n",
       "      <td>Clause</td>\n",
       "      <td>Clause</td>\n",
       "    </tr>\n",
       "  </tbody>\n",
       "</table>\n",
       "</div>"
      ],
      "text/plain": [
       "                                               query   label prediction\n",
       "0  Rédige moi une clause de non-sollicitation de ...  Clause     Clause\n",
       "1  Je veux une clause de nomination de mandataire...  Clause     Clause\n",
       "2  Je veux une clause d'administration prolongée ...  Clause     Clause\n",
       "3  Rédige-moi une clause de limitation territoria...  Clause     Clause\n",
       "4  Donne moi une clause de volonté pour dispositi...  Clause     Clause"
      ]
     },
     "execution_count": 77,
     "metadata": {},
     "output_type": "execute_result"
    }
   ],
   "source": [
    "true_labels = [label for label in test_labels]\n",
    "\n",
    "reversed_dict = {v: k for k, v in label_dict.items()}\n",
    "predicted_labels = [reversed_dict[label_num] for label_num in predicted_labels]\n",
    "\n",
    "# Create a data frame with the queries, true labels, and predicted labels\n",
    "data = {\"query\": queries, \"label\": true_labels, \"prediction\": predicted_labels}\n",
    "df_pred = pd.DataFrame(data)\n",
    "\n",
    "df_pred.head()\n"
   ]
  },
  {
   "cell_type": "code",
   "execution_count": 78,
   "id": "6d8071f6",
   "metadata": {},
   "outputs": [
    {
     "data": {
      "image/png": "[encoded data removed]",
      "text/plain": [
       "<Figure size 1000x1000 with 2 Axes>"
      ]
     },
     "metadata": {},
     "output_type": "display_data"
    }
   ],
   "source": [
    "# Create the confusion matrix\n",
    "cm = confusion_matrix(true_labels, predicted_labels, labels=class_names)\n",
    "\n",
    "# Plot the confusion matrix\n",
    "fig, ax = plt.subplots(figsize=(10, 10))\n",
    "disp = ConfusionMatrixDisplay(confusion_matrix=cm, display_labels=class_names)\n",
    "disp.plot(include_values=True, cmap=\"Blues\", ax=ax, xticks_rotation=\"horizontal\")\n",
    "plt.show()"
   ]
  },
  {
   "cell_type": "code",
   "execution_count": 79,
   "id": "b1eef50c",
   "metadata": {},
   "outputs": [
    {
     "name": "stdout",
     "output_type": "stream",
     "text": [
      "              precision    recall  f1-score   support\n",
      "\n",
      "   Recherche       0.96      0.97      0.97        77\n",
      "      Resume       0.89      0.73      0.80        22\n",
      "Email/Lettre       0.98      0.98      0.98        41\n",
      "        Memo       0.85      0.95      0.90        43\n",
      "      Clause       1.00      1.00      1.00        23\n",
      "    argument       1.00      1.00      1.00        23\n",
      "   Follow up       0.92      0.80      0.86        15\n",
      "\n",
      "    accuracy                           0.94       244\n",
      "   macro avg       0.94      0.92      0.93       244\n",
      "weighted avg       0.94      0.94      0.94       244\n",
      "\n"
     ]
    }
   ],
   "source": [
    "from sklearn.metrics import classification_report\n",
    "\n",
    "class_names = [\"Recherche\", \"Resume\", \"Email/Lettre\", \"Memo\", \"Clause\", \"argument\", \"Follow up\"]\n",
    "report = classification_report(true_labels, predicted_labels, labels=class_names)\n",
    "\n",
    "print(report)"
   ]
  },
  {
   "cell_type": "code",
   "execution_count": 80,
   "id": "c9eee397",
   "metadata": {},
   "outputs": [],
   "source": [
    "data = {\"query\": queries, \"label\": true_labels, \"prediction\": predicted_labels}\n",
    "df_pred = pd.DataFrame(data)\n",
    "\n",
    "df_pred.to_excel(\"data/best_camembert_classifier_output.xlsx\")"
   ]
  },
  {
   "cell_type": "code",
   "execution_count": 83,
   "id": "59acfefd",
   "metadata": {},
   "outputs": [],
   "source": [
    "\n",
    "# # Define the French queries\n",
    "queries = [\n",
    "    \"Rédigez-moi un mémo concernant un vol\", \n",
    "    \"Rédigez-moi un courriel concernant un vol\",\n",
    "    \"Peux-tu rédiger un argument  au client pour lui expliquer la procédure pour vendre les biens et que ces derniers doivent être conformes à la réglementation et au zonage \",\n",
    "    \"Qu'est-ce que le report d'imposition ?\",\n",
    "    \"Qu'avez-vous modifié pour rendre la lettre plus agressive ?\",\n",
    "    \"Qu'avez-vous modifié pour rendre la lettre plus agressive dans le ton ?\",\n",
    "    \"Que dire sous la juridiction de Hawaï ?\",\n",
    "    \"Merci, veuillez réessayer avec toutes les cours fédérales.\",\n",
    "    \"Synthétisez cela davantage.\",\n",
    "    \"Simplifiez le langage dans cette note.\",\n",
    "    \"Simplifiez davantage le langage.\",\n",
    "    \"Réécrivez cela avec un accent sur la clarté.\",\n",
    "    \"Réécrivez cela pour être plus lisible.\",\n",
    "    \"Réécrivez cela de manière plus formelle.\",\n",
    "    \"Réécrivez cela pour être plus engageant.\",\n",
    "    \"Réécrivez cela de manière moins technique.\",\n",
    "    \"Réécrivez cela de manière moins formelle.\",\n",
    "    \"Réécrivez cela de manière moins agressive.\",\n",
    "    \"Réécrivez cela dans un ton plus positif.\",\n",
    "    \"Révisez cela pour le rendre plus empathique.\",\n",
    "    \"Révisez cela pour le rendre plus succinct et engageant.\",\n",
    "    \"Révisez cela pour le rendre plus succinct et clair.\",\n",
    "    \"Révisez cela pour le rendre plus positif dans le ton.\",\n",
    "    \"Révisez cela pour le rendre plus engageant et informatif.\",\n",
    "    \"Révisez cela pour le rendre plus concis et précis.\",\n",
    "    \"Révisez cela pour le rendre plus concis et informatif.\",\n",
    "    \"Révisez cela pour le rendre plus concis et convaincant.\",\n",
    "    \"Réorganisez cette réponse pour en maximiser la cohérence, le flux et la séquence logique.\",\n",
    "    \"Retirez le langage subjectif ou émotionnel de cette réponse.\",\n",
    "    \"Affinez et distillez cela davantage.\",\n",
    "    \"Reformulez cette ébauche dans un ton plus affirmé.\",\n",
    "    \"Veuillez adoucir le ton de cette réponse.\",\n",
    "    \"Veuillez simplifier cette clause.\",\n",
    "    \"Veuillez simplifier le langage législatif.\",\n",
    "    \"Veuillez simplifier les termes juridiques complexes.\",\n",
    "    \"Veuillez examiner l'ébauche de l'Accord Structuré d'Achat pour en vérifier la complétude et suggérer des ajouts utiles.\",\n",
    "    \"Veuillez fournir plus de détails sur les points clés.\",\n",
    "    \"Veuillez rendre cette section plus concise.\",\n",
    "    \"Veuillez rendre cette section plus concise et claire.\",\n",
    "    \"Veuillez rendre cette réponse plus concise et informative.\",\n",
    "    \"Veuillez rendre cette réponse plus assertive.\",\n",
    "    \"Veuillez rendre cela plus direct.\",\n",
    "    \"Veuillez rendre cela plus concis.\",\n",
    "    \"Veuillez rendre cette lettre plus agressive.\",\n",
    "    \"Veuillez rendre cela moins contraignant.\",\n",
    "    \"Veuillez rendre cette ébauche plus agressive.\",\n",
    "    \"Veuillez rendre ce contrat plus complet.\",\n",
    "    \"Veuillez rendre le langage plus inclusif.\",\n",
    "    \"Veuillez rendre l'argumentation moins technique et plus accessible.\",\n",
    "    \"Veuillez le rendre plus amical.\",\n",
    "    \"Veuillez améliorer le raisonnement juridique.\",\n",
    "    \"Veuillez rédiger une lettre plus ferme.\",\n",
    "    \"Veuillez créer une version plus ferme de cette lettre.\",\n",
    "    \"Veuillez clarifier le jargon juridique.\",\n",
    "    \"Veuillez ajouter plus d'exemples pour étayer l'argument.\",\n",
    "    \"Veuillez ajouter plus de détails à l'argumentation.\",\n",
    "    \"Veuillez ajouter plus de clarté à l'explication.\",\n",
    "    \"Non. Ce que vous devez faire, c'est rédiger un résumé pour que le tribunal l'examine, pas un autre ordre.\",\n",
    "    \"Rendre ce texte plus long.\",\n",
    "    \"Rendre ce résumé plus détaillé.\",\n",
    "    \"Rendre ce résumé plus concis.\",\n",
    "    \"Rendre ce résumé moins contraignant et antagoniste.\",\n",
    "    \"Rendre cette réponse plus détaillée et complète.\",\n",
    "    \"Rendre cette réponse plus concise et directe.\",\n",
    "    \"Rendre cette réponse plus assertive.\",\n",
    "    \"Rendre cette ébauche plus conviviale et claire.\",\n",
    "    \"Rendre cette ébauche plus concise et claire.\",\n",
    "    \"Rendre cette ébauche plus convaincante.\",\n",
    "    \"Rendre ce contrat plus spécifique.\",\n",
    "    \"Rendre ce contrat plus complet.\",\n",
    "    \"Rendre cette clause plus détaillée.\",\n",
    "    \"Rendre cet argument plus concis et pertinent.\",\n",
    "    \"Rendre cela un bail plus formel avec un titre et un préambule d'introduction. Ajouter des considérants. Ajouter des blocs de signature.\"\n",
    "    \"Rédiger un argument juridique pour une audience de voir-dire selon lequel le témoignage d’un témoin ayant entendu l’accusé admettre un crime peut être utilisé en vertu de l’exception du ouï-dire\"\n",
    "]\n",
    "\n",
    "# # Preprocess the queries (tokenize)\n",
    "# inputs = tokenizer(queries, padding=True, truncation=True, return_tensors=\"pt\")\n",
    "\n",
    "# # Make sure the model is in evaluation mode\n",
    "# fine_tuned_model.eval()\n",
    "\n",
    "# # Perform prediction\n",
    "# with torch.no_grad():\n",
    "#     outputs = fine_tuned_model(**inputs)\n",
    "\n",
    "#     predicted_labels = torch.argmax(outputs, dim=-1)\n",
    "#     print(predicted_labels)\n",
    "   \n",
    "#     label_dict = {\"Recherche\": 0,\"Resume\": 1,\"Email/Lettre\": 2,\"Memo\": 3,\"Clause\": 4,\"argument\": 5, \"Follow up\":6}\n",
    "#     class_names = [\"Recherche\", \"Resume\", \"Email/Lettre\", \"Memo\", \"Clause\", \"argument\", \"Follow up\"]\n",
    "#     predictions = [class_names[label.item()] for label in predicted_labels]\n",
    "\n",
    "# # Output the results\n",
    "# for query, prediction in zip(queries, predictions):\n",
    "#     #print(f\"Query: '{query}' -> Predicted Label: {prediction}\")\n",
    "#     print(f\"Predicted Label: {prediction}\")\n"
   ]
  },
  {
   "cell_type": "code",
   "execution_count": null,
   "id": "33037211",
   "metadata": {},
   "outputs": [],
   "source": []
  },
  {
   "cell_type": "code",
   "execution_count": null,
   "id": "4c7d5760",
   "metadata": {},
   "outputs": [],
   "source": []
  }
 ],
 "metadata": {
  "kernelspec": {
   "display_name": "conda_priyanka-setfit-conda",
   "language": "python",
   "name": "conda_priyanka-setfit-conda"
  },
  "language_info": {
   "codemirror_mode": {
    "name": "ipython",
    "version": 3
   },
   "file_extension": ".py",
   "mimetype": "text/x-python",
   "name": "python",
   "nbconvert_exporter": "python",
   "pygments_lexer": "ipython3",
   "version": "3.9.20"
  }
 },
 "nbformat": 4,
 "nbformat_minor": 5
}
